{
 "cells": [
  {
   "cell_type": "code",
   "execution_count": 1,
   "metadata": {},
   "outputs": [],
   "source": [
    "import jax.numpy as jnp\n",
    "import jax.scipy as jsp\n",
    "import jax"
   ]
  },
  {
   "cell_type": "code",
   "execution_count": 2,
   "metadata": {},
   "outputs": [],
   "source": [
    "TAU = 1 / (256 * 8 * 60)\n",
    "KAPPA = 12\n",
    "X_BAR = jnp.log(0.16)\n",
    "SIGMA_SIGMA = 6.4\n",
    "RHO = -0.5"
   ]
  },
  {
   "cell_type": "markdown",
   "metadata": {},
   "source": [
    "## Skew Stoch Vol State Space Functions"
   ]
  },
  {
   "cell_type": "code",
   "execution_count": 3,
   "metadata": {},
   "outputs": [],
   "source": [
    "def f_from_noise(last_val, noise):\n",
    "    \"\"\"\n",
    "    Evolve the hidden state using the stochastic volatility model.\n",
    "    \n",
    "    Args:\n",
    "        last_val: Previous hidden state value\n",
    "        noise: Random noise for the evolution\n",
    "        \n",
    "    Returns:\n",
    "        next_val: Next hidden state value\n",
    "    \"\"\"\n",
    "    means = last_val + TAU * KAPPA * (X_BAR - last_val)\n",
    "    std = jnp.sqrt(TAU) * SIGMA_SIGMA\n",
    "    next_val = noise * std + means\n",
    "    return next_val\n",
    "\n",
    "\n",
    "def skew_g_from_total_noise(prev_particle, particle, noise):\n",
    "    # Mean reversion term: E[X_t | X_{t-1}] = X_{t-1} + κτ(X̄ - X_{t-1})\n",
    "    mean_reversion_term = prev_particle + KAPPA * TAU * (X_BAR - prev_particle)\n",
    "\n",
    "    # Mean: μ_Y = -0.5τ exp(2X_t) + ρ(exp(X_t)/σ²)(X_t - E[X_t | X_{t-1}])\n",
    "    skew_total_mean = -0.5 * TAU * jnp.exp(2 * particle) + RHO * (jnp.exp(particle) / SIGMA_SIGMA) * (particle - mean_reversion_term)\n",
    "    \n",
    "    # Variance: σ²_Y = τ exp(2X_t)(1 - ρ²)\n",
    "    skew_total_var = TAU * jnp.exp(2 * particle) * (1 - RHO**2)\n",
    "\n",
    "    return skew_total_mean + noise * jnp.sqrt(skew_total_var)"
   ]
  },
  {
   "cell_type": "code",
   "execution_count": 4,
   "metadata": {},
   "outputs": [],
   "source": [
    "def f_likelihood_single(\n",
    "        particle: float, prev_particle: float, Y_array, idt\n",
    "        ) -> float: \n",
    "    \"\"\"\n",
    "    Calculate the transition probability density for the stochastic volatility model.\n",
    "    \n",
    "    Parameters:\n",
    "    -----------\n",
    "    particle : float\n",
    "        Current particle state (log volatility)\n",
    "    prev_particle : float\n",
    "        Previous particle state (log volatility)\n",
    "        \n",
    "    Returns:\n",
    "    --------\n",
    "    float\n",
    "        Log probability density of the transition from prev_particle to particle\n",
    "    \"\"\"\n",
    "    \n",
    "    # Calculate transition parameters\n",
    "    f_means = prev_particle + TAU * KAPPA * (X_BAR - prev_particle)  # Mean reversion\n",
    "    f_std = jnp.sqrt(TAU) * SIGMA_SIGMA  # Transition noise scale\n",
    "    \n",
    "    # Calculate log probability density\n",
    "    f_x_given_x_prev = jsp.stats.norm.logpdf(particle, f_means, f_std)\n",
    "    \n",
    "    return f_x_given_x_prev \n",
    "\n",
    "def skew_observation_weight_single(particle, prev_particle, Y_array, idt):\n",
    "\n",
    "    # Mean reversion term: E[X_t | X_{t-1}] = X_{t-1} + κτ(X̄ - X_{t-1})\n",
    "    mean_reversion_term = prev_particle + KAPPA * TAU * (X_BAR - prev_particle)\n",
    "\n",
    "    # Skew-normal distribution parameters for Y[t]\n",
    "    # Mean: μ_Y = -0.5τ exp(2X_t) + ρ(exp(X_t)/σ²)(X_t - E[X_t | X_{t-1}])\n",
    "    skew_total_mean = -0.5 * TAU * jnp.exp(2 * particle) + RHO  * (jnp.exp(particle) / SIGMA_SIGMA) * (particle - mean_reversion_term)\n",
    "    \n",
    "    # Variance: σ²_Y = τ exp(2X_t)(1 - ρ²)\n",
    "    skew_total_var = TAU * jnp.exp(2 * particle) * (1 - RHO**2)\n",
    "\n",
    "    # Return log-likelihood: log P(Y[idt] | X_t, X_{t-1})\n",
    "    return jsp.stats.norm.logpdf(Y_array.at[idt].get(), skew_total_mean, jnp.sqrt(skew_total_var))\n",
    "\n"
   ]
  },
  {
   "cell_type": "markdown",
   "metadata": {},
   "source": [
    "# Experiments\n",
    "\n",
    "Show:\n",
    "- Better ESS with NN method. \n",
    "- No improvment in forecasting. "
   ]
  }
 ],
 "metadata": {
  "kernelspec": {
   "display_name": "ParticleFilter",
   "language": "python",
   "name": "python3"
  },
  "language_info": {
   "codemirror_mode": {
    "name": "ipython",
    "version": 3
   },
   "file_extension": ".py",
   "mimetype": "text/x-python",
   "name": "python",
   "nbconvert_exporter": "python",
   "pygments_lexer": "ipython3",
   "version": "3.12.9"
  }
 },
 "nbformat": 4,
 "nbformat_minor": 2
}
