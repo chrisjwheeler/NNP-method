{
 "cells": [
  {
   "cell_type": "code",
   "execution_count": 1,
   "metadata": {},
   "outputs": [],
   "source": [
    "import jax.numpy as jnp\n",
    "import jax.scipy as jsp\n",
    "import jax\n",
    "\n",
    "from nnp_functions.pf_vehicle import PFVehicle\n",
    "from nnp_functions.particle_filter import ParticleFilter\n",
    "from nnp_functions.neural_networks import FeedForwardNetwork\n",
    "\n"
   ]
  },
  {
   "cell_type": "code",
   "execution_count": 2,
   "metadata": {},
   "outputs": [],
   "source": [
    "TAU = 1 / (256 * 8 * 60)\n",
    "KAPPA = 12\n",
    "X_BAR = jnp.log(0.16)\n",
    "SIGMA_SIGMA = 6.4\n",
    "RHO = -0.5"
   ]
  },
  {
   "cell_type": "markdown",
   "metadata": {},
   "source": [
    "## Stoch Vol Experiments State Space Functions"
   ]
  },
  {
   "cell_type": "code",
   "execution_count": 3,
   "metadata": {},
   "outputs": [],
   "source": [
    "def f_from_noise(last_val, noise):\n",
    "    \"\"\"\n",
    "    Evolve the hidden state using the stochastic volatility model.\n",
    "    \n",
    "    Args:\n",
    "        last_val: Previous hidden state value\n",
    "        noise: Random noise for the evolution\n",
    "        \n",
    "    Returns:\n",
    "        next_val: Next hidden state value\n",
    "    \"\"\"\n",
    "    means = last_val + TAU * KAPPA * (X_BAR - last_val)\n",
    "    std = jnp.sqrt(TAU) * SIGMA_SIGMA\n",
    "    next_val = noise * std + means\n",
    "    return next_val\n",
    "\n",
    "def f_sample_fn(subkey, particles, Y_array, idt):\n",
    "    return f_from_noise(particles, jax.random.normal(subkey, len(particles)))\n",
    "    \n",
    "\n",
    "def g_from_total_noise(prev_particle, all_particles, total_noise):\n",
    "    \"\"\"\n",
    "    Generate observations from hidden states using the observation model.\n",
    "    \n",
    "    Args:\n",
    "        all_particles: Hidden state particles\n",
    "        total_noise: Random noise for observations\n",
    "        \n",
    "    Returns:\n",
    "        observations: Generated observations\n",
    "    \"\"\"\n",
    "    y_means = -0.5 * TAU * jnp.exp(2 * all_particles)\n",
    "    y_stds = jnp.sqrt(TAU) * jnp.exp(all_particles)\n",
    "    \n",
    "    return total_noise * y_stds + y_means"
   ]
  },
  {
   "cell_type": "code",
   "execution_count": 4,
   "metadata": {},
   "outputs": [],
   "source": [
    "def f_likelihood_single(\n",
    "        particle: float, prev_particle: float, Y_array, idt\n",
    "        ) -> float: \n",
    "    \"\"\"\n",
    "    Calculate the transition probability density for the stochastic volatility model.\n",
    "    \n",
    "    Parameters:\n",
    "    -----------\n",
    "    particle : float\n",
    "        Current particle state (log volatility)\n",
    "    prev_particle : float\n",
    "        Previous particle state (log volatility)\n",
    "        \n",
    "    Returns:\n",
    "    --------\n",
    "    float\n",
    "        Log probability density of the transition from prev_particle to particle\n",
    "    \"\"\"\n",
    "    \n",
    "    # Calculate transition parameters\n",
    "    f_means = prev_particle + TAU * KAPPA * (X_BAR - prev_particle)  # Mean reversion\n",
    "    f_std = jnp.sqrt(TAU) * SIGMA_SIGMA  # Transition noise scale\n",
    "    \n",
    "    # Calculate log probability density\n",
    "    f_x_given_x_prev = jsp.stats.norm.logpdf(particle, f_means, f_std)\n",
    "    \n",
    "    return f_x_given_x_prev \n",
    "\n",
    "def g_likelihood_single(particle, prev_particle, Y_array, idt\n",
    "        ) -> float: \n",
    "    \"\"\"\n",
    "    Calculate the likelihood of a value 'val' given a hidden log standard deviation 'hidden_log_std' under the stochastic volatility model.\n",
    "    \n",
    "    Parameters:\n",
    "    val (float): The value for which likelihood is calculated\n",
    "    hidden_log_std (float): The hidden log standard deviation\n",
    "    prev_hidden_log_std (float): The previous hidden log standard deviation, which is not used in the calculation.\n",
    "    \n",
    "    Returns:\n",
    "    float: The likelihood of the value 'val' given the hidden log standard deviation\n",
    "    \"\"\"\n",
    "    \n",
    "    std = jnp.sqrt(TAU) * jnp.exp(prev_particle)  # full variance\n",
    "    mean = -0.5 * std**2  # expected mean\n",
    "    \n",
    "    return jsp.stats.norm.logpdf(Y_array.at[idt].get(), mean, std)\n",
    "\n",
    "g_likelihood_weight_fn = jax.vmap(g_likelihood_single, in_axes=(0, 0, None, None))\n"
   ]
  },
  {
   "cell_type": "markdown",
   "metadata": {},
   "source": [
    "# Experiments\n",
    "\n",
    "Show:\n",
    "- Higher ess suggests better filtering performance. Shown with what we have previously\n",
    "    - However it doesnt result in better forecasting performance. \n",
    "    - Experiment into VolMAE and how it relates to ESS. \n",
    "\n",
    "- We expect not to get better ESS performance here. \n",
    "    - Run ar1 code and include the plot of ess diff. \n",
    "\n",
    "Methodology:\n",
    "- Your going to want a scatter plot of average ESS against filtering performance metrics. Thus will want some form of loop of what you have for the ar1 examples. \n",
    "\n",
    "- Will need to implement VolMAE\n",
    "    - Simple add to PF.\n",
    "\n",
    "\n"
   ]
  },
  {
   "cell_type": "code",
   "execution_count": 5,
   "metadata": {},
   "outputs": [],
   "source": [
    "# Planning varied pf loop. \n",
    "# Q1: do we want to compare affects for boostrap and trained? \n",
    "# Remeber that throughout vmap will not be very easy. <- stacking diagnostics also not that hard\n",
    "\n",
    "\n",
    "TRAIN_KEY = jax.random.key(112)\n",
    "DATA_KEY = jax.random.key(72)\n",
    "EVAL_KEY = jax.random.key(80)\n",
    "INIT_PARTICLE_KEY = jax.random.key(16)"
   ]
  },
  {
   "cell_type": "code",
   "execution_count": 6,
   "metadata": {},
   "outputs": [],
   "source": [
    "stoch_vol_vehicle = PFVehicle(f_from_noise, g_from_total_noise, f_likelihood_single, g_likelihood_single)\n",
    "\n",
    "stoch_bootstrap_pf = ParticleFilter(f_sample_fn, g_likelihood_single)\n"
   ]
  },
  {
   "cell_type": "code",
   "execution_count": 7,
   "metadata": {},
   "outputs": [
    {
     "data": {
      "application/vnd.jupyter.widget-view+json": {
       "model_id": "f0aea1ad903e46b6b6ea90161e094115",
       "version_major": 2,
       "version_minor": 0
      },
      "text/plain": [
       "  0%|          | 0/1000 [00:00<?, ?it/s]"
      ]
     },
     "metadata": {},
     "output_type": "display_data"
    },
    {
     "data": {
      "image/png": "[encoded data removed]",
      "text/plain": [
       "<Figure size 800x300 with 1 Axes>"
      ]
     },
     "metadata": {},
     "output_type": "display_data"
    }
   ],
   "source": [
    "initial_model = FeedForwardNetwork(1, 64, jax.random.key(72))\n",
    "stoch_vol_vehicle.train_model(\n",
    "    TRAIN_KEY, \n",
    "    initial_model,\n",
    "    1000, \n",
    "    steps = 1000, \n",
    "    X_bar = X_BAR\n",
    ")"
   ]
  },
  {
   "cell_type": "code",
   "execution_count": 8,
   "metadata": {},
   "outputs": [],
   "source": [
    "PARTICLE_VALS = [50, 500, 1000]\n",
    "SIMULATE_AT = [0.9]\n",
    "N_RUNS = 1\n",
    "N_TIMESTEPS = 1000"
   ]
  },
  {
   "cell_type": "code",
   "execution_count": 9,
   "metadata": {},
   "outputs": [],
   "source": [
    "All_X, All_Y = stoch_vol_vehicle.generate_data(\n",
    "    DATA_KEY,\n",
    "    N_RUNS,\n",
    "    N_TIMESTEPS,\n",
    "    starting_point = X_BAR\n",
    ")"
   ]
  },
  {
   "cell_type": "code",
   "execution_count": 10,
   "metadata": {},
   "outputs": [],
   "source": [
    "def stack_dicts(dict_list):\n",
    "    return {\n",
    "        key: jnp.stack([d[key] for d in dict_list], axis=0)\n",
    "        for key in dict_list[0]\n",
    "    }"
   ]
  },
  {
   "cell_type": "code",
   "execution_count": 11,
   "metadata": {},
   "outputs": [
    {
     "name": "stdout",
     "output_type": "stream",
     "text": [
      "Starting particle filter experiments across different particle counts...\n",
      "\n",
      "============================================================\n",
      "Running experiments for particle count: 50\n",
      "  - Initializing neural network particle filter...\n",
      "  - Initializing bootstrap particle filter...\n",
      "    > Run 1/1 for particle_N=50 (NN PF)...\n"
     ]
    },
    {
     "data": {
      "application/vnd.jupyter.widget-view+json": {
       "model_id": "f5235d3fcba2489e8859c18991d33bbc",
       "version_major": 2,
       "version_minor": 0
      },
      "text/plain": [
       "Processing segments:   0%|          | 0/1 [00:00<?, ?segment/s]"
      ]
     },
     "metadata": {},
     "output_type": "display_data"
    },
    {
     "name": "stdout",
     "output_type": "stream",
     "text": [
      "      - Neural network PF diagnostics collected.\n",
      "    > Run 1/1 for particle_N=50 (Bootstrap PF)...\n"
     ]
    },
    {
     "data": {
      "application/vnd.jupyter.widget-view+json": {
       "model_id": "82ae70c559cc41e2abf771232f939bf4",
       "version_major": 2,
       "version_minor": 0
      },
      "text/plain": [
       "Processing segments:   0%|          | 0/1 [00:00<?, ?segment/s]"
      ]
     },
     "metadata": {},
     "output_type": "display_data"
    },
    {
     "name": "stdout",
     "output_type": "stream",
     "text": [
      "      - Bootstrap PF diagnostics collected.\n",
      "  - Aggregating diagnostics for particle_N=50...\n",
      "  - Completed aggregation for particle_N=50.\n",
      "\n",
      "============================================================\n",
      "Running experiments for particle count: 500\n",
      "  - Initializing neural network particle filter...\n",
      "  - Initializing bootstrap particle filter...\n",
      "    > Run 1/1 for particle_N=500 (NN PF)...\n"
     ]
    },
    {
     "data": {
      "application/vnd.jupyter.widget-view+json": {
       "model_id": "37f240d9c59b49f2ae2ed0971a59a3eb",
       "version_major": 2,
       "version_minor": 0
      },
      "text/plain": [
       "Processing segments:   0%|          | 0/1 [00:00<?, ?segment/s]"
      ]
     },
     "metadata": {},
     "output_type": "display_data"
    },
    {
     "name": "stdout",
     "output_type": "stream",
     "text": [
      "      - Neural network PF diagnostics collected.\n",
      "    > Run 1/1 for particle_N=500 (Bootstrap PF)...\n"
     ]
    },
    {
     "data": {
      "application/vnd.jupyter.widget-view+json": {
       "model_id": "2f4b1a5b671f4039a361f6d53de177f1",
       "version_major": 2,
       "version_minor": 0
      },
      "text/plain": [
       "Processing segments:   0%|          | 0/1 [00:00<?, ?segment/s]"
      ]
     },
     "metadata": {},
     "output_type": "display_data"
    },
    {
     "name": "stdout",
     "output_type": "stream",
     "text": [
      "      - Bootstrap PF diagnostics collected.\n",
      "  - Aggregating diagnostics for particle_N=500...\n",
      "  - Completed aggregation for particle_N=500.\n",
      "\n",
      "============================================================\n",
      "Running experiments for particle count: 1000\n",
      "  - Initializing neural network particle filter...\n",
      "  - Initializing bootstrap particle filter...\n",
      "    > Run 1/1 for particle_N=1000 (NN PF)...\n"
     ]
    },
    {
     "data": {
      "application/vnd.jupyter.widget-view+json": {
       "model_id": "15785d3971234924a9fa2d8ef8f3cbf3",
       "version_major": 2,
       "version_minor": 0
      },
      "text/plain": [
       "Processing segments:   0%|          | 0/1 [00:00<?, ?segment/s]"
      ]
     },
     "metadata": {},
     "output_type": "display_data"
    },
    {
     "name": "stdout",
     "output_type": "stream",
     "text": [
      "      - Neural network PF diagnostics collected.\n",
      "    > Run 1/1 for particle_N=1000 (Bootstrap PF)...\n"
     ]
    },
    {
     "data": {
      "application/vnd.jupyter.widget-view+json": {
       "model_id": "45c9f5f5932b49ada3503f8728f39a6b",
       "version_major": 2,
       "version_minor": 0
      },
      "text/plain": [
       "Processing segments:   0%|          | 0/1 [00:00<?, ?segment/s]"
      ]
     },
     "metadata": {},
     "output_type": "display_data"
    },
    {
     "name": "stdout",
     "output_type": "stream",
     "text": [
      "      - Bootstrap PF diagnostics collected.\n",
      "  - Aggregating diagnostics for particle_N=1000...\n",
      "  - Completed aggregation for particle_N=1000.\n",
      "\n",
      "All particle filter experiments completed successfully.\n"
     ]
    }
   ],
   "source": [
    "total_n_merged_diag = {}\n",
    "total_n_forecast_metrics = {}\n",
    "total_b_merged_diag = {}\n",
    "total_b_forecast_metrics = {}\n",
    "\n",
    "eval_key = EVAL_KEY\n",
    "\n",
    "print(\"Starting particle filter experiments across different particle counts...\")\n",
    "for particle_N in PARTICLE_VALS:\n",
    "    print(f\"\\n{'='*60}\")\n",
    "    print(f\"Running experiments for particle count: {particle_N}\")\n",
    "\n",
    "    initial_particles = jax.random.normal(INIT_PARTICLE_KEY, (particle_N,)) * 0.1 + X_BAR\n",
    "    initial_log_weights = jnp.zeros(particle_N) - jnp.log(particle_N)\n",
    "\n",
    "    print(\"  - Initializing neural network particle filter...\")\n",
    "    nn_particle_filter = stoch_vol_vehicle.build_NN_particle_filter(N_PARTICLES = particle_N)\n",
    "    print(\"  - Initializing bootstrap particle filter...\")\n",
    "    stoch_bootstrap_pf = ParticleFilter(f_sample_fn, g_likelihood_single, N_PARTICLES = particle_N)\n",
    "\n",
    "    nn_merged_diag_list = []\n",
    "    bootstrap_merged_diag_list = []\n",
    "\n",
    "    nn_total_forecast_metrics = []\n",
    "    bootstrap_total_forecast_metrics = []\n",
    "    \n",
    "    for run_idx in range(N_RUNS):\n",
    "\n",
    "        key, eval_key = jax.random.split(eval_key)\n",
    "\n",
    "        print(f\"    > Run {run_idx+1}/{N_RUNS} for particle_N={particle_N} (NN PF)...\")\n",
    "        Y_array, X_array = All_Y[run_idx], All_X[run_idx]\n",
    "\n",
    "        nn_merge, _, nn_forecast_metrics = stoch_vol_vehicle.run_from_particle_filter(\n",
    "            key, nn_particle_filter, Y_array, X_array, initial_particles,\n",
    "            simulate_at = SIMULATE_AT,\n",
    "            tau = TAU\n",
    "        )\n",
    "        print(f\"      - Neural network PF diagnostics collected.\")\n",
    "\n",
    "        nn_merged_diag_list.append(nn_merge)\n",
    "        nn_total_forecast_metrics.append(nn_forecast_metrics)\n",
    "\n",
    "        print(f\"    > Run {run_idx+1}/{N_RUNS} for particle_N={particle_N} (Bootstrap PF)...\")\n",
    "        bootstrap_merge, _, bootstrap_forecast_metrics = stoch_vol_vehicle.run_from_particle_filter(\n",
    "            key, stoch_bootstrap_pf, Y_array, X_array, initial_particles,\n",
    "            simulate_at = SIMULATE_AT,\n",
    "            tau = TAU\n",
    "        )\n",
    "        print(f\"      - Bootstrap PF diagnostics collected.\")\n",
    "\n",
    "        bootstrap_merged_diag_list.append(bootstrap_merge)\n",
    "        bootstrap_total_forecast_metrics.append(bootstrap_forecast_metrics)\n",
    "\n",
    "    print(f\"  - Aggregating diagnostics for particle_N={particle_N}...\")\n",
    "    total_n_merged_diag[particle_N] = stack_dicts(nn_merged_diag_list)\n",
    "    total_b_merged_diag[particle_N] = stack_dicts(bootstrap_merged_diag_list)\n",
    "    total_n_forecast_metrics[particle_N] = (nn_total_forecast_metrics)\n",
    "    total_b_forecast_metrics[particle_N] = (bootstrap_total_forecast_metrics)\n",
    "    print(f\"  - Completed aggregation for particle_N={particle_N}.\")\n",
    "\n",
    "print(\"\\nAll particle filter experiments completed successfully.\")\n"
   ]
  },
  {
   "cell_type": "markdown",
   "metadata": {},
   "source": [
    "## Forecasting Evaluation \n",
    "\n",
    "First we need to unders"
   ]
  },
  {
   "cell_type": "code",
   "execution_count": 14,
   "metadata": {},
   "outputs": [
    {
     "name": "stdout",
     "output_type": "stream",
     "text": [
      "{50: [{899: {'kde_mse': Array(0.00248797, dtype=float32),\n",
      "             'likelihood': Array([2.3813245], dtype=float32),\n",
      "             'total_coverage': Array(0., dtype=float32),\n",
      "             'total_mse': Array(0.10905708, dtype=float32)}}],\n",
      " 500: [{899: {'kde_mse': Array(0.00154517, dtype=float32),\n",
      "              'likelihood': Array([2.4521823], dtype=float32),\n",
      "              'total_coverage': Array(0., dtype=float32),\n",
      "              'total_mse': Array(0.08823783, dtype=float32)}}],\n",
      " 1000: [{899: {'kde_mse': Array(0.00171108, dtype=float32),\n",
      "               'likelihood': Array([2.4810028], dtype=float32),\n",
      "               'total_coverage': Array(0., dtype=float32),\n",
      "               'total_mse': Array(0.09041778, dtype=float32)}}]}\n"
     ]
    }
   ],
   "source": [
    "from pprint import pprint \n",
    "\n",
    "pprint(total_n_forecast_metrics)"
   ]
  },
  {
   "cell_type": "code",
   "execution_count": null,
   "metadata": {},
   "outputs": [],
   "source": [
    "f"
   ]
  }
 ],
 "metadata": {
  "kernelspec": {
   "display_name": "ParticleFilter",
   "language": "python",
   "name": "python3"
  },
  "language_info": {
   "codemirror_mode": {
    "name": "ipython",
    "version": 3
   },
   "file_extension": ".py",
   "mimetype": "text/x-python",
   "name": "python",
   "nbconvert_exporter": "python",
   "pygments_lexer": "ipython3",
   "version": "3.12.9"
  }
 },
 "nbformat": 4,
 "nbformat_minor": 2
}
