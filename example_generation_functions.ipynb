{
 "cells": [
  {
   "cell_type": "markdown",
   "metadata": {},
   "source": [
    "### This document contains the transition functions for each of the examples that we use. \n",
    "\n",
    "\n",
    "For each example we will write the following functions:\n",
    "- F from noise. \n",
    "- G from noise.\n",
    "- f weight function\n",
    "- g weight function.\n",
    "\n",
    "And the Optimal Sample and Weight function where applicable."
   ]
  },
  {
   "cell_type": "code",
   "execution_count": null,
   "metadata": {},
   "outputs": [],
   "source": [
    "import jax.numpy as jnp\n",
    "import jax.scipy as jsp\n",
    "import jax"
   ]
  },
  {
   "cell_type": "markdown",
   "metadata": {},
   "source": [
    "## Constants"
   ]
  },
  {
   "cell_type": "code",
   "execution_count": null,
   "metadata": {},
   "outputs": [],
   "source": [
    "TAU = 1 / (256 * 8 * 60)\n",
    "KAPPA = 12\n",
    "X_BAR = jnp.log(0.016)\n",
    "SIGMA_SIGMA = 6.4\n",
    "RHO = -0.75"
   ]
  },
  {
   "cell_type": "markdown",
   "metadata": {},
   "source": [
    "# AR(1) Example"
   ]
  },
  {
   "cell_type": "code",
   "execution_count": null,
   "metadata": {},
   "outputs": [],
   "source": [
    "SIGMA_Y = 0.64\n",
    "\n",
    "def f_from_noise(last_val, noise):\n",
    "    \"\"\"\n",
    "    Evolve the hidden state using the stochastic volatility model.\n",
    "    \n",
    "    Args:\n",
    "        last_val: Previous hidden state value\n",
    "        noise: Random noise for the evolution\n",
    "        \n",
    "    Returns:\n",
    "        next_val: Next hidden state value\n",
    "    \"\"\"\n",
    "    means = last_val + TAU * KAPPA * (X_BAR - last_val)\n",
    "    std = jnp.sqrt(TAU) * SIGMA_SIGMA\n",
    "    next_val = noise * std + means\n",
    "    return next_val\n",
    "\n",
    "\n",
    "def ar1_g_from_total_noise(prev_particle, all_particles, total_noise):\n",
    "    \"\"\"\n",
    "    Generate observations from hidden states using the observation model.\n",
    "    \n",
    "    Args:\n",
    "        all_particles: Hidden state particles\n",
    "        total_noise: Random noise for observations\n",
    "        \n",
    "    Returns:\n",
    "        observations: Generated observations\n",
    "    \"\"\"\n",
    "    y_means = -0.5 * TAU * jnp.exp(2 * all_particles)\n",
    "    \n",
    "    return total_noise * jnp.sqrt(TAU) * SIGMA_Y + y_means\n"
   ]
  },
  {
   "cell_type": "code",
   "execution_count": null,
   "metadata": {},
   "outputs": [],
   "source": [
    "\n",
    "def f_likelihood_single(\n",
    "        particle: float, prev_particle: float, Y_array, idt\n",
    "        ) -> float: \n",
    "    \"\"\"\n",
    "    Calculate the transition probability density for the stochastic volatility model.\n",
    "    \n",
    "    Parameters:\n",
    "    -----------\n",
    "    particle : float\n",
    "        Current particle state (log volatility)\n",
    "    prev_particle : float\n",
    "        Previous particle state (log volatility)\n",
    "        \n",
    "    Returns:\n",
    "    --------\n",
    "    float\n",
    "        Log probability density of the transition from prev_particle to particle\n",
    "    \"\"\"\n",
    "    \n",
    "    # Calculate transition parameters\n",
    "    f_means = prev_particle + TAU * KAPPA * (X_BAR - prev_particle)  # Mean reversion\n",
    "    f_std = jnp.sqrt(TAU) * SIGMA_SIGMA  # Transition noise scale\n",
    "    \n",
    "    # Calculate log probability density\n",
    "    f_x_given_x_prev = jsp.stats.norm.logpdf(particle, f_means, f_std)\n",
    "    \n",
    "    return f_x_given_x_prev \n",
    "\n",
    "f_likelihood_weight_fn = jax.vmap(f_likelihood_single, in_axes=(0, 0, None, None))\n",
    "\n",
    "\n",
    "\n",
    "def ar1_g_likelihood_single(particle, prev_particle, Y_array, idt\n",
    "        ) -> float: \n",
    "    \"\"\"\n",
    "    Calculate the likelihood of a value 'val' given a hidden log standard deviation 'hidden_log_std' under the stochastic volatility model.\n",
    "    \n",
    "    Parameters:\n",
    "    val (float): The value for which likelihood is calculated\n",
    "    hidden_log_std (float): The hidden log standard deviation\n",
    "    prev_hidden_log_std (float): The previous hidden log standard deviation, which is not used in the calculation.\n",
    "    \n",
    "    Returns:\n",
    "    float: The likelihood of the value 'val' given the hidden log standard deviation\n",
    "    \"\"\"\n",
    "    \n",
    "    mean = -0.5 * TAU * jnp.exp(2 * particle)\n",
    "    \n",
    "    return jsp.stats.norm.logpdf(Y_array.at[idt].get(), mean, jnp.sqrt(TAU) * SIGMA_Y)\n",
    "\n",
    "g_likelihood_weight_fn = jax.vmap(ar1_g_likelihood_single, in_axes=(0, 0, None, None))\n"
   ]
  },
  {
   "cell_type": "markdown",
   "metadata": {},
   "source": [
    "Optimal Functions"
   ]
  },
  {
   "cell_type": "code",
   "execution_count": null,
   "metadata": {},
   "outputs": [],
   "source": [
    "def ar1_optimal_sample(subkey, particles, Y_array, idt):\n",
    "\n",
    "    mean_reversion_term = particles + TAU * KAPPA * (X_BAR - particles)\n",
    "    optimal_var = (1 / (TAU * SIGMA_SIGMA**2) + 1 / (TAU * SIGMA_Y**2))**(-1)\n",
    "\n",
    "    optimal_mean_numerator = (mean_reversion_term / (TAU * SIGMA_SIGMA**2)) + (Y_array.at[idt].get() / (TAU * SIGMA_Y**2)) \n",
    "    optimal_mean = optimal_mean_numerator * optimal_var\n",
    "    \n",
    "    new_particles = jax.random.normal(subkey, len(particles)) * jnp.sqrt(optimal_var) + optimal_mean\n",
    "    \n",
    "    return new_particles\n",
    "\n",
    "\n",
    "def ar1_optimal_likelihood_single(particle, prev_particle, Y_array, idt\n",
    "        ) -> float: \n",
    "    \"\"\"\n",
    "    Calculate the likelihood of a value 'val' given a hidden log standard deviation 'hidden_log_std' under the stochastic volatility model.\n",
    "    \n",
    "    Parameters:\n",
    "    val (float): The value for which likelihood is calculated\n",
    "    hidden_log_std (float): The hidden log standard deviation\n",
    "    prev_hidden_log_std (float): The previous hidden log standard deviation, which is not used in the calculation.\n",
    "    \n",
    "    Returns:\n",
    "    float: The likelihood of the value 'val' given the hidden log standard deviation\n",
    "    \"\"\"\n",
    "    \n",
    "    mean_reversion_term = particle + TAU * KAPPA * (X_BAR - particle)\n",
    "    optimal_var = (1 / (TAU * SIGMA_SIGMA**2) + 1 / (TAU * SIGMA_Y**2))**(-1)\n",
    "\n",
    "    optimal_mean_numerator = (mean_reversion_term / (TAU * SIGMA_SIGMA**2)) + (Y_array.at[idt].get() / (TAU * SIGMA_Y**2)) \n",
    "    optimal_mean = optimal_mean_numerator * optimal_var\n",
    "    \n",
    "    return jsp.stats.norm.logpdf(Y_array.at[idt].get(), optimal_mean, jnp.sqrt(optimal_var))\n",
    "\n",
    "ar1_optimal_likelihood_weight_fn = jax.vmap(ar1_optimal_likelihood_single, in_axes=(0, 0, None, None))\n"
   ]
  },
  {
   "cell_type": "markdown",
   "metadata": {
    "vscode": {
     "languageId": "plaintext"
    }
   },
   "source": [
    "# Stochastic Volatility Example"
   ]
  },
  {
   "cell_type": "code",
   "execution_count": null,
   "metadata": {},
   "outputs": [],
   "source": [
    "# f from noise is same as before.\n",
    "\n",
    "def g_from_total_noise(prev_particle, all_particles, total_noise):\n",
    "    \"\"\"\n",
    "    Generate observations from hidden states using the observation model.\n",
    "    \n",
    "    Args:\n",
    "        all_particles: Hidden state particles\n",
    "        total_noise: Random noise for observations\n",
    "        \n",
    "    Returns:\n",
    "        observations: Generated observations\n",
    "    \"\"\"\n",
    "    y_means = -0.5 * TAU * jnp.exp(2 * all_particles)\n",
    "    y_stds = jnp.sqrt(TAU) * jnp.exp(all_particles)\n",
    "    \n",
    "    return total_noise * y_stds + y_means"
   ]
  },
  {
   "cell_type": "code",
   "execution_count": null,
   "metadata": {},
   "outputs": [],
   "source": [
    "# f likelihood is same as before\n",
    "\n",
    "def g_likelihood_single(particle, prev_particle, Y_array, idt\n",
    "        ) -> float: \n",
    "    \"\"\"\n",
    "    Calculate the likelihood of a value 'val' given a hidden log standard deviation 'hidden_log_std' under the stochastic volatility model.\n",
    "    \n",
    "    Parameters:\n",
    "    val (float): The value for which likelihood is calculated\n",
    "    hidden_log_std (float): The hidden log standard deviation\n",
    "    prev_hidden_log_std (float): The previous hidden log standard deviation, which is not used in the calculation.\n",
    "    \n",
    "    Returns:\n",
    "    float: The likelihood of the value 'val' given the hidden log standard deviation\n",
    "    \"\"\"\n",
    "    \n",
    "    std = jnp.sqrt(TAU) * jnp.exp(prev_particle)  # full variance\n",
    "    mean = -0.5 * std**2  # expected mean\n",
    "    \n",
    "    return jsp.stats.norm.logpdf(Y_array.at[idt].get(), mean, std)\n",
    "\n",
    "g_likelihood_weight_fn = jax.vmap(g_likelihood_single, in_axes=(0, 0, None, None))\n"
   ]
  },
  {
   "cell_type": "markdown",
   "metadata": {
    "vscode": {
     "languageId": "plaintext"
    }
   },
   "source": [
    "# Stochastic Volatility with Skew Example"
   ]
  },
  {
   "cell_type": "code",
   "execution_count": null,
   "metadata": {},
   "outputs": [],
   "source": [
    "# f from noise is same as before.\n",
    "\n",
    "def skew_g_from_total_noise(prev_particle, particle, noise):\n",
    "    # Mean reversion term: E[X_t | X_{t-1}] = X_{t-1} + κτ(X̄ - X_{t-1})\n",
    "    mean_reversion_term = prev_particle + KAPPA * TAU * (X_BAR - prev_particle)\n",
    "\n",
    "    # Mean: μ_Y = -0.5τ exp(2X_t) + ρ(exp(X_t)/σ²)(X_t - E[X_t | X_{t-1}])\n",
    "    skew_total_mean = -0.5 * TAU * jnp.exp(2 * particle) + RHO * (jnp.exp(particle) / SIGMA_SIGMA) * (particle - mean_reversion_term)\n",
    "    \n",
    "    # Variance: σ²_Y = τ exp(2X_t)(1 - ρ²)\n",
    "    skew_total_var = TAU * jnp.exp(2 * particle) * (1 - RHO**2)\n",
    "\n",
    "    return skew_total_mean + noise * jnp.sqrt(skew_total_var)"
   ]
  },
  {
   "cell_type": "code",
   "execution_count": null,
   "metadata": {},
   "outputs": [],
   "source": [
    "# f likelihood is same as before.\n",
    "\n",
    "def skew_observation_weight_single(particle, prev_particle, Y_array, idt):\n",
    "\n",
    "    # Mean reversion term: E[X_t | X_{t-1}] = X_{t-1} + κτ(X̄ - X_{t-1})\n",
    "    mean_reversion_term = prev_particle + KAPPA * TAU * (X_BAR - prev_particle)\n",
    "\n",
    "    # Skew-normal distribution parameters for Y[t]\n",
    "    # Mean: μ_Y = -0.5τ exp(2X_t) + ρ(exp(X_t)/σ²)(X_t - E[X_t | X_{t-1}])\n",
    "    skew_total_mean = -0.5 * TAU * jnp.exp(2 * particle) + RHO  * (jnp.exp(particle) / SIGMA_SIGMA) * (particle - mean_reversion_term)\n",
    "    \n",
    "    # Variance: σ²_Y = τ exp(2X_t)(1 - ρ²)\n",
    "    skew_total_var = TAU * jnp.exp(2 * particle) * (1 - RHO**2)\n",
    "\n",
    "    # Return log-likelihood: log P(Y[idt] | X_t, X_{t-1})\n",
    "    return jsp.stats.norm.logpdf(Y_array.at[idt].get(), skew_total_mean, jnp.sqrt(skew_total_var))\n",
    "\n"
   ]
  }
 ],
 "metadata": {
  "kernelspec": {
   "display_name": "ParticleFilter",
   "language": "python",
   "name": "python3"
  },
  "language_info": {
   "name": "python",
   "version": "3.12.9"
  }
 },
 "nbformat": 4,
 "nbformat_minor": 2
}
